{
 "cells": [
  {
   "cell_type": "code",
   "execution_count": 26,
   "id": "14f11347-1d3a-4912-9e8e-5be2ccba4adf",
   "metadata": {},
   "outputs": [
    {
     "name": "stderr",
     "output_type": "stream",
     "text": [
      "[nltk_data] Downloading package punkt_tab to\n",
      "[nltk_data]     C:\\Users\\prath\\AppData\\Roaming\\nltk_data...\n",
      "[nltk_data]   Package punkt_tab is already up-to-date!\n"
     ]
    },
    {
     "data": {
      "text/plain": [
       "True"
      ]
     },
     "execution_count": 26,
     "metadata": {},
     "output_type": "execute_result"
    }
   ],
   "source": [
    "import nltk\n",
    "import re\n",
    "nltk.download('punkt_tab')"
   ]
  },
  {
   "cell_type": "code",
   "execution_count": 27,
   "id": "34cb4ec5-e316-430c-b6d2-622e9dc11710",
   "metadata": {},
   "outputs": [],
   "source": [
    "text = \"Hello everyone, my name is Tanmay Machkar. I am in TE pursuing CSE at MES Wadia College of engineering. I have good knowledge in C++, C, React, NextJS, HTML, CSS. In my free time I like  playing football and read manga.\""
   ]
  },
  {
   "cell_type": "code",
   "execution_count": 28,
   "id": "ee867ac6-4ae4-44ce-9b6e-19c8b22714c2",
   "metadata": {},
   "outputs": [
    {
     "data": {
      "text/plain": [
       "['Hello everyone, my name is Tanmay Machkar.',\n",
       " 'I am in TE pursuing CSE at MES Wadia College of engineering.',\n",
       " 'I have good knowledge in C++, C, React, NextJS, HTML, CSS.',\n",
       " 'In my free time I like  playing football and read manga.']"
      ]
     },
     "execution_count": 28,
     "metadata": {},
     "output_type": "execute_result"
    }
   ],
   "source": [
    "from nltk.tokenize import sent_tokenize\n",
    "st = sent_tokenize(text)\n",
    "st"
   ]
  },
  {
   "cell_type": "code",
   "execution_count": 29,
   "id": "6412f124-d240-42de-a200-1a5c5c6c06c0",
   "metadata": {},
   "outputs": [
    {
     "data": {
      "text/plain": [
       "['Hello',\n",
       " 'everyone',\n",
       " ',',\n",
       " 'my',\n",
       " 'name',\n",
       " 'is',\n",
       " 'Tanmay',\n",
       " 'Machkar',\n",
       " '.',\n",
       " 'I',\n",
       " 'am',\n",
       " 'in',\n",
       " 'TE',\n",
       " 'pursuing',\n",
       " 'CSE',\n",
       " 'at',\n",
       " 'MES',\n",
       " 'Wadia',\n",
       " 'College',\n",
       " 'of',\n",
       " 'engineering',\n",
       " '.',\n",
       " 'I',\n",
       " 'have',\n",
       " 'good',\n",
       " 'knowledge',\n",
       " 'in',\n",
       " 'C++',\n",
       " ',',\n",
       " 'C',\n",
       " ',',\n",
       " 'React',\n",
       " ',',\n",
       " 'NextJS',\n",
       " ',',\n",
       " 'HTML',\n",
       " ',',\n",
       " 'CSS',\n",
       " '.',\n",
       " 'In',\n",
       " 'my',\n",
       " 'free',\n",
       " 'time',\n",
       " 'I',\n",
       " 'like',\n",
       " 'playing',\n",
       " 'football',\n",
       " 'and',\n",
       " 'read',\n",
       " 'manga',\n",
       " '.']"
      ]
     },
     "execution_count": 29,
     "metadata": {},
     "output_type": "execute_result"
    }
   ],
   "source": [
    "from nltk.tokenize import word_tokenize\n",
    "wt = word_tokenize(text)\n",
    "wt"
   ]
  },
  {
   "cell_type": "code",
   "execution_count": 30,
   "id": "dc34538c-d836-4fd9-93b1-be0b12cfb7ae",
   "metadata": {},
   "outputs": [
    {
     "data": {
      "text/plain": [
       "{'a',\n",
       " 'about',\n",
       " 'above',\n",
       " 'after',\n",
       " 'again',\n",
       " 'against',\n",
       " 'ain',\n",
       " 'all',\n",
       " 'am',\n",
       " 'an',\n",
       " 'and',\n",
       " 'any',\n",
       " 'are',\n",
       " 'aren',\n",
       " \"aren't\",\n",
       " 'as',\n",
       " 'at',\n",
       " 'be',\n",
       " 'because',\n",
       " 'been',\n",
       " 'before',\n",
       " 'being',\n",
       " 'below',\n",
       " 'between',\n",
       " 'both',\n",
       " 'but',\n",
       " 'by',\n",
       " 'can',\n",
       " 'couldn',\n",
       " \"couldn't\",\n",
       " 'd',\n",
       " 'did',\n",
       " 'didn',\n",
       " \"didn't\",\n",
       " 'do',\n",
       " 'does',\n",
       " 'doesn',\n",
       " \"doesn't\",\n",
       " 'doing',\n",
       " 'don',\n",
       " \"don't\",\n",
       " 'down',\n",
       " 'during',\n",
       " 'each',\n",
       " 'few',\n",
       " 'for',\n",
       " 'from',\n",
       " 'further',\n",
       " 'had',\n",
       " 'hadn',\n",
       " \"hadn't\",\n",
       " 'has',\n",
       " 'hasn',\n",
       " \"hasn't\",\n",
       " 'have',\n",
       " 'haven',\n",
       " \"haven't\",\n",
       " 'having',\n",
       " 'he',\n",
       " \"he'd\",\n",
       " \"he'll\",\n",
       " \"he's\",\n",
       " 'her',\n",
       " 'here',\n",
       " 'hers',\n",
       " 'herself',\n",
       " 'him',\n",
       " 'himself',\n",
       " 'his',\n",
       " 'how',\n",
       " 'i',\n",
       " \"i'd\",\n",
       " \"i'll\",\n",
       " \"i'm\",\n",
       " \"i've\",\n",
       " 'if',\n",
       " 'in',\n",
       " 'into',\n",
       " 'is',\n",
       " 'isn',\n",
       " \"isn't\",\n",
       " 'it',\n",
       " \"it'd\",\n",
       " \"it'll\",\n",
       " \"it's\",\n",
       " 'its',\n",
       " 'itself',\n",
       " 'just',\n",
       " 'll',\n",
       " 'm',\n",
       " 'ma',\n",
       " 'me',\n",
       " 'mightn',\n",
       " \"mightn't\",\n",
       " 'more',\n",
       " 'most',\n",
       " 'mustn',\n",
       " \"mustn't\",\n",
       " 'my',\n",
       " 'myself',\n",
       " 'needn',\n",
       " \"needn't\",\n",
       " 'no',\n",
       " 'nor',\n",
       " 'not',\n",
       " 'now',\n",
       " 'o',\n",
       " 'of',\n",
       " 'off',\n",
       " 'on',\n",
       " 'once',\n",
       " 'only',\n",
       " 'or',\n",
       " 'other',\n",
       " 'our',\n",
       " 'ours',\n",
       " 'ourselves',\n",
       " 'out',\n",
       " 'over',\n",
       " 'own',\n",
       " 're',\n",
       " 's',\n",
       " 'same',\n",
       " 'shan',\n",
       " \"shan't\",\n",
       " 'she',\n",
       " \"she'd\",\n",
       " \"she'll\",\n",
       " \"she's\",\n",
       " 'should',\n",
       " \"should've\",\n",
       " 'shouldn',\n",
       " \"shouldn't\",\n",
       " 'so',\n",
       " 'some',\n",
       " 'such',\n",
       " 't',\n",
       " 'than',\n",
       " 'that',\n",
       " \"that'll\",\n",
       " 'the',\n",
       " 'their',\n",
       " 'theirs',\n",
       " 'them',\n",
       " 'themselves',\n",
       " 'then',\n",
       " 'there',\n",
       " 'these',\n",
       " 'they',\n",
       " \"they'd\",\n",
       " \"they'll\",\n",
       " \"they're\",\n",
       " \"they've\",\n",
       " 'this',\n",
       " 'those',\n",
       " 'through',\n",
       " 'to',\n",
       " 'too',\n",
       " 'under',\n",
       " 'until',\n",
       " 'up',\n",
       " 've',\n",
       " 'very',\n",
       " 'was',\n",
       " 'wasn',\n",
       " \"wasn't\",\n",
       " 'we',\n",
       " \"we'd\",\n",
       " \"we'll\",\n",
       " \"we're\",\n",
       " \"we've\",\n",
       " 'were',\n",
       " 'weren',\n",
       " \"weren't\",\n",
       " 'what',\n",
       " 'when',\n",
       " 'where',\n",
       " 'which',\n",
       " 'while',\n",
       " 'who',\n",
       " 'whom',\n",
       " 'why',\n",
       " 'will',\n",
       " 'with',\n",
       " 'won',\n",
       " \"won't\",\n",
       " 'wouldn',\n",
       " \"wouldn't\",\n",
       " 'y',\n",
       " 'you',\n",
       " \"you'd\",\n",
       " \"you'll\",\n",
       " \"you're\",\n",
       " \"you've\",\n",
       " 'your',\n",
       " 'yours',\n",
       " 'yourself',\n",
       " 'yourselves'}"
      ]
     },
     "execution_count": 30,
     "metadata": {},
     "output_type": "execute_result"
    }
   ],
   "source": [
    "from nltk.corpus import stopwords\n",
    "var1 = set(stopwords.words(\"english\"))\n",
    "var1"
   ]
  },
  {
   "cell_type": "code",
   "execution_count": 31,
   "id": "1e61a9c8-bccd-4384-94e1-064d37fd0280",
   "metadata": {},
   "outputs": [
    {
     "data": {
      "text/plain": [
       "'Hello everyone  my name is Tanmay Machkar  I am in TE pursuing CSE at MES Wadia College of engineering  I have good knowledge in C    C  React  NextJS  HTML  CSS  In my free time I like  playing football and read manga '"
      ]
     },
     "execution_count": 31,
     "metadata": {},
     "output_type": "execute_result"
    }
   ],
   "source": [
    "text = re.sub(\"[^a-zA-z]\", \" \", text)\n",
    "text"
   ]
  },
  {
   "cell_type": "code",
   "execution_count": 32,
   "id": "1fb46519-e7c9-42d1-afcc-6305d9d4ba6a",
   "metadata": {},
   "outputs": [
    {
     "name": "stdout",
     "output_type": "stream",
     "text": [
      "Tokenized sentence:  ['hello', 'everyone', 'my', 'name', 'is', 'tanmay', 'machkar', 'i', 'am', 'in', 'te', 'pursuing', 'cse', 'at', 'mes', 'wadia', 'college', 'of', 'engineering', 'i', 'have', 'good', 'knowledge', 'in', 'c', 'c', 'react', 'nextjs', 'html', 'css', 'in', 'my', 'free', 'time', 'i', 'like', 'playing', 'football', 'and', 'read', 'manga']\n",
      "Filtered text:  ['hello', 'everyone', 'name', 'tanmay', 'machkar', 'te', 'pursuing', 'cse', 'mes', 'wadia', 'college', 'engineering', 'good', 'knowledge', 'c', 'c', 'react', 'nextjs', 'html', 'css', 'free', 'time', 'like', 'playing', 'football', 'read', 'manga']\n"
     ]
    }
   ],
   "source": [
    "tokens = word_tokenize(text.lower())\n",
    "ft = []\n",
    "for word in tokens:\n",
    "    if word not in var1:\n",
    "        ft.append(word)\n",
    "print(\"Tokenized sentence: \", tokens)\n",
    "print(\"Filtered text: \", ft)"
   ]
  },
  {
   "cell_type": "code",
   "execution_count": 33,
   "id": "071e1550-d796-4e04-9e70-f1bf140cc674",
   "metadata": {},
   "outputs": [
    {
     "name": "stdout",
     "output_type": "stream",
     "text": [
      "write\n",
      "write\n",
      "write\n",
      "wrote\n",
      "read\n",
      "read\n",
      "troubl\n"
     ]
    }
   ],
   "source": [
    "from nltk.stem import PorterStemmer\n",
    "ps = PorterStemmer()\n",
    "var = [\"write\", \"writing\", \"writes\", \"wrote\", \"reading\", \"reads\", \"trouble\"]\n",
    "for word in var:\n",
    "    root = ps.stem(word)\n",
    "    print(root)"
   ]
  },
  {
   "cell_type": "code",
   "execution_count": 34,
   "id": "126247a3-26bb-41d9-8b27-71187da4c00c",
   "metadata": {},
   "outputs": [
    {
     "name": "stdout",
     "output_type": "stream",
     "text": [
      "Lemma for studies is study\n",
      "Lemma for studying is studying\n",
      "Lemma for cries is cry\n",
      "Lemma for cry is cry\n",
      "Lemma for trouble is trouble\n"
     ]
    }
   ],
   "source": [
    "from nltk.stem import WordNetLemmatizer\n",
    "wnl = WordNetLemmatizer()\n",
    "text = \"studies studying cries cry trouble\"\n",
    "word = word_tokenize(text)\n",
    "for w in word:\n",
    "    print(\"Lemma for {} is {}\".format(w, wnl.lemmatize(w)))"
   ]
  },
  {
   "cell_type": "code",
   "execution_count": 35,
   "id": "6292f721-8122-45c7-9414-44d877996cc1",
   "metadata": {},
   "outputs": [
    {
     "data": {
      "text/plain": [
       "[('Hello', 'NNP'),\n",
       " ('everyone', 'NN'),\n",
       " ('this', 'DT'),\n",
       " ('is', 'VBZ'),\n",
       " ('a', 'DT'),\n",
       " ('sample', 'JJ'),\n",
       " ('text', 'NN'),\n",
       " ('!', '.'),\n",
       " ('Earth', 'NN'),\n",
       " ('.', '.')]"
      ]
     },
     "execution_count": 35,
     "metadata": {},
     "output_type": "execute_result"
    }
   ],
   "source": [
    "text = \"Hello everyone this is a sample text! Earth.\"\n",
    "text = nltk.word_tokenize(text)\n",
    "nltk.pos_tag(text)"
   ]
  },
  {
   "cell_type": "code",
   "execution_count": 36,
   "id": "e1c68fd8-a1f7-40c1-99f3-e78b72dcfa66",
   "metadata": {},
   "outputs": [],
   "source": [
    "from sklearn.feature_extraction.text import TfidfVectorizer"
   ]
  },
  {
   "cell_type": "code",
   "execution_count": 37,
   "id": "a36a2e2d-36db-4892-8ff9-4bfa7df6850e",
   "metadata": {},
   "outputs": [],
   "source": [
    "text = \"Hello everyone, my name is Tanmay Machkar. I am in TE pursuing CSE at MES Wadia College of engineering. I have good knowledge in C++, C, React, NextJS, HTML, CSS. In my free time I like  playing football and read manga.\"\n",
    "vectorizer = TfidfVectorizer()"
   ]
  },
  {
   "cell_type": "code",
   "execution_count": 38,
   "id": "e31299b7-53c4-4c9b-bb28-7c7c30d72d6d",
   "metadata": {},
   "outputs": [],
   "source": [
    "text_matrix = vectorizer.fit_transform([text])"
   ]
  },
  {
   "cell_type": "code",
   "execution_count": 39,
   "id": "2a5ddbf1-c492-4211-abf6-a5a6a084338d",
   "metadata": {},
   "outputs": [],
   "source": [
    "text_features = vectorizer.get_feature_names_out([text])"
   ]
  },
  {
   "cell_type": "code",
   "execution_count": 40,
   "id": "a498bdf8-7502-4569-b5ae-231b45607007",
   "metadata": {},
   "outputs": [],
   "source": [
    "text_array = text_matrix.toarray()"
   ]
  },
  {
   "cell_type": "code",
   "execution_count": 41,
   "id": "7741515f-d2bf-41b0-a141-87c072c8ab82",
   "metadata": {},
   "outputs": [
    {
     "name": "stdout",
     "output_type": "stream",
     "text": [
      "TF-IDF feature names:  ['am' 'and' 'at' 'college' 'cse' 'css' 'engineering' 'everyone' 'football'\n",
      " 'free' 'good' 'have' 'hello' 'html' 'in' 'is' 'knowledge' 'like'\n",
      " 'machkar' 'manga' 'mes' 'my' 'name' 'nextjs' 'of' 'playing' 'pursuing'\n",
      " 'react' 'read' 'tanmay' 'te' 'time' 'wadia']\n",
      "TF-IDF matrix: \n",
      " [[0.15075567 0.15075567 0.15075567 0.15075567 0.15075567 0.15075567\n",
      "  0.15075567 0.15075567 0.15075567 0.15075567 0.15075567 0.15075567\n",
      "  0.15075567 0.15075567 0.45226702 0.15075567 0.15075567 0.15075567\n",
      "  0.15075567 0.15075567 0.15075567 0.30151134 0.15075567 0.15075567\n",
      "  0.15075567 0.15075567 0.15075567 0.15075567 0.15075567 0.15075567\n",
      "  0.15075567 0.15075567 0.15075567]]\n"
     ]
    }
   ],
   "source": [
    "print(\"TF-IDF feature names: \", text_features)\n",
    "print(\"TF-IDF matrix: \\n\", text_array)"
   ]
  },
  {
   "cell_type": "code",
   "execution_count": null,
   "id": "bfcb5b38-48c0-4d74-9a88-5f1a359e7e48",
   "metadata": {},
   "outputs": [],
   "source": []
  }
 ],
 "metadata": {
  "kernelspec": {
   "display_name": "Python 3 (ipykernel)",
   "language": "python",
   "name": "python3"
  },
  "language_info": {
   "codemirror_mode": {
    "name": "ipython",
    "version": 3
   },
   "file_extension": ".py",
   "mimetype": "text/x-python",
   "name": "python",
   "nbconvert_exporter": "python",
   "pygments_lexer": "ipython3",
   "version": "3.12.6"
  }
 },
 "nbformat": 4,
 "nbformat_minor": 5
}
